{
 "cells": [
  {
   "cell_type": "markdown",
   "metadata": {},
   "source": [
    "# PREPARING THE DATA\n"
   ]
  },
  {
   "cell_type": "markdown",
   "metadata": {},
   "source": [
    "#### From a Kaagle CSV which contains almost all RickAndMorty dialogues, I am going to select one of my favorites episodes "
   ]
  },
  {
   "cell_type": "code",
   "execution_count": 2,
   "metadata": {},
   "outputs": [],
   "source": [
    "import pandas as pd"
   ]
  },
  {
   "cell_type": "code",
   "execution_count": 3,
   "metadata": {},
   "outputs": [],
   "source": [
    "rickMorty=pd.read_csv(\"INPUT/RickAndMortyScripts.csv\")"
   ]
  },
  {
   "cell_type": "markdown",
   "metadata": {},
   "source": [
    "**As a DataFrame**"
   ]
  },
  {
   "cell_type": "code",
   "execution_count": 4,
   "metadata": {},
   "outputs": [],
   "source": [
    "df=pd.DataFrame(rickMorty)"
   ]
  },
  {
   "cell_type": "markdown",
   "metadata": {},
   "source": [
    "**Just want to select season 3 episode 3 (\"Pickle Rick\")**"
   ]
  },
  {
   "cell_type": "code",
   "execution_count": 5,
   "metadata": {},
   "outputs": [
    {
     "data": {
      "text/html": [
       "<div>\n",
       "<style scoped>\n",
       "    .dataframe tbody tr th:only-of-type {\n",
       "        vertical-align: middle;\n",
       "    }\n",
       "\n",
       "    .dataframe tbody tr th {\n",
       "        vertical-align: top;\n",
       "    }\n",
       "\n",
       "    .dataframe thead th {\n",
       "        text-align: right;\n",
       "    }\n",
       "</style>\n",
       "<table border=\"1\" class=\"dataframe\">\n",
       "  <thead>\n",
       "    <tr style=\"text-align: right;\">\n",
       "      <th></th>\n",
       "      <th>index</th>\n",
       "      <th>season no.</th>\n",
       "      <th>episode no.</th>\n",
       "      <th>episode name</th>\n",
       "      <th>name</th>\n",
       "      <th>line</th>\n",
       "    </tr>\n",
       "  </thead>\n",
       "  <tbody>\n",
       "    <tr>\n",
       "      <th>1290</th>\n",
       "      <td>1673</td>\n",
       "      <td>3</td>\n",
       "      <td>3</td>\n",
       "      <td>Pickle Rick</td>\n",
       "      <td>Pickle Rick</td>\n",
       "      <td>Morty.</td>\n",
       "    </tr>\n",
       "    <tr>\n",
       "      <th>1291</th>\n",
       "      <td>1674</td>\n",
       "      <td>3</td>\n",
       "      <td>3</td>\n",
       "      <td>Pickle Rick</td>\n",
       "      <td>Morty</td>\n",
       "      <td>Rick?</td>\n",
       "    </tr>\n",
       "    <tr>\n",
       "      <th>1292</th>\n",
       "      <td>1675</td>\n",
       "      <td>3</td>\n",
       "      <td>3</td>\n",
       "      <td>Pickle Rick</td>\n",
       "      <td>Pickle Rick</td>\n",
       "      <td>Morty!</td>\n",
       "    </tr>\n",
       "  </tbody>\n",
       "</table>\n",
       "</div>"
      ],
      "text/plain": [
       "      index  season no.  episode no. episode name         name    line\n",
       "1290   1673           3            3  Pickle Rick  Pickle Rick  Morty.\n",
       "1291   1674           3            3  Pickle Rick        Morty   Rick?\n",
       "1292   1675           3            3  Pickle Rick  Pickle Rick  Morty!"
      ]
     },
     "execution_count": 5,
     "metadata": {},
     "output_type": "execute_result"
    }
   ],
   "source": [
    "s3e3 = df.loc[(df[\"season no.\"] == 3) & (df[\"episode no.\"]==3)]\n",
    "s3e3.head(3)"
   ]
  },
  {
   "cell_type": "markdown",
   "metadata": {},
   "source": [
    "**And now, I want to select just a scene**"
   ]
  },
  {
   "cell_type": "code",
   "execution_count": 8,
   "metadata": {},
   "outputs": [
    {
     "data": {
      "text/html": [
       "<div>\n",
       "<style scoped>\n",
       "    .dataframe tbody tr th:only-of-type {\n",
       "        vertical-align: middle;\n",
       "    }\n",
       "\n",
       "    .dataframe tbody tr th {\n",
       "        vertical-align: top;\n",
       "    }\n",
       "\n",
       "    .dataframe thead th {\n",
       "        text-align: right;\n",
       "    }\n",
       "</style>\n",
       "<table border=\"1\" class=\"dataframe\">\n",
       "  <thead>\n",
       "    <tr style=\"text-align: right;\">\n",
       "      <th></th>\n",
       "      <th>name</th>\n",
       "      <th>line</th>\n",
       "    </tr>\n",
       "  </thead>\n",
       "  <tbody>\n",
       "    <tr>\n",
       "      <th>0</th>\n",
       "      <td>Beth</td>\n",
       "      <td>I am afraid that my kids will get expelled.</td>\n",
       "    </tr>\n",
       "    <tr>\n",
       "      <th>1</th>\n",
       "      <td>Dr. Wong</td>\n",
       "      <td>Good. Summer, you go.</td>\n",
       "    </tr>\n",
       "    <tr>\n",
       "      <th>2</th>\n",
       "      <td>Summer</td>\n",
       "      <td>I am mad that I can't huff enamel without peop...</td>\n",
       "    </tr>\n",
       "  </tbody>\n",
       "</table>\n",
       "</div>"
      ],
      "text/plain": [
       "       name                                               line\n",
       "0      Beth        I am afraid that my kids will get expelled.\n",
       "1  Dr. Wong                              Good. Summer, you go.\n",
       "2    Summer  I am mad that I can't huff enamel without peop..."
      ]
     },
     "execution_count": 8,
     "metadata": {},
     "output_type": "execute_result"
    }
   ],
   "source": [
    "#Reseting index\n",
    "s3e3.reset_index()\n",
    "#Selecting the scene I am going to analyze\n",
    "scene_filtered=s3e3.iloc[146:172]\n",
    "#Reset the index again and drop some columns I do not need\n",
    "scene_filtered=scene_filtered.reset_index()\n",
    "scene_filtered.drop([\"level_0\",\"index\",\"season no.\",\"episode no.\",\"episode name\"], axis=1, inplace=True)\n",
    "scene_filtered.head(3)"
   ]
  },
  {
   "cell_type": "markdown",
   "metadata": {},
   "source": [
    "**As a CSV in order to analyze the endpoints in the \"RickAndMorty_SentimentAnalysis_RecommendationAnalysis\" jupyter file**"
   ]
  },
  {
   "cell_type": "code",
   "execution_count": 11,
   "metadata": {},
   "outputs": [],
   "source": [
    "scene_filtered.to_csv(\"OUTPUT/RickAndMorty_scene.csv\")"
   ]
  }
 ],
 "metadata": {
  "kernelspec": {
   "display_name": "Python 3",
   "language": "python",
   "name": "python3"
  },
  "language_info": {
   "codemirror_mode": {
    "name": "ipython",
    "version": 3
   },
   "file_extension": ".py",
   "mimetype": "text/x-python",
   "name": "python",
   "nbconvert_exporter": "python",
   "pygments_lexer": "ipython3",
   "version": "3.7.7"
  }
 },
 "nbformat": 4,
 "nbformat_minor": 4
}

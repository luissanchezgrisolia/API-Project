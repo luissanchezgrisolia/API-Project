{
 "cells": [
  {
   "cell_type": "markdown",
   "metadata": {},
   "source": [
    "#                                  ENDPOINTS OPERATION CHECK"
   ]
  },
  {
   "cell_type": "code",
   "execution_count": 2,
   "metadata": {},
   "outputs": [],
   "source": [
    "import requests"
   ]
  },
  {
   "cell_type": "markdown",
   "metadata": {},
   "source": [
    "**CREATE A NEW USER**\n",
    "\n",
    "**Purpose:** Create a user and save into DB.\n",
    "\n",
    " `/user/create/<username>`"
   ]
  },
  {
   "cell_type": "code",
   "execution_count": 9,
   "metadata": {},
   "outputs": [
    {
     "data": {
      "text/plain": [
       "'User Felipe created with id number: 12'"
      ]
     },
     "execution_count": 9,
     "metadata": {},
     "output_type": "execute_result"
    }
   ],
   "source": [
    "res = requests.get(\"http://localhost:4000/user/create/Felipe\")\n",
    "res.text"
   ]
  },
  {
   "cell_type": "markdown",
   "metadata": {},
   "source": [
    "**CREATE A NEW CHAT**\n",
    "\n",
    "**Purpose:** Create a conversation to load messages.\n",
    "\n",
    "`/chat/create/<name>`"
   ]
  },
  {
   "cell_type": "code",
   "execution_count": 10,
   "metadata": {},
   "outputs": [
    {
     "data": {
      "text/plain": [
       "'Chat Ironhack created with id number: 3'"
      ]
     },
     "execution_count": 10,
     "metadata": {},
     "output_type": "execute_result"
    }
   ],
   "source": [
    "res = requests.get(\"http://localhost:4000/chat/create/Ironhack\")\n",
    "res.text"
   ]
  },
  {
   "cell_type": "markdown",
   "metadata": {},
   "source": [
    "**ADD USER TO A CHAT**\n",
    "\n",
    "**Purpose:** Add existing users to an existing chat.\n",
    "\n",
    "`/chat/<chatName>/add/<userName>`"
   ]
  },
  {
   "cell_type": "code",
   "execution_count": 11,
   "metadata": {},
   "outputs": [
    {
     "data": {
      "text/plain": [
       "'User Clara added to chat: Ironhack'"
      ]
     },
     "execution_count": 11,
     "metadata": {},
     "output_type": "execute_result"
    }
   ],
   "source": [
    "res = requests.get(\"http://localhost:4000/chat/Ironhack/add/Clara\")\n",
    "res.text"
   ]
  },
  {
   "cell_type": "markdown",
   "metadata": {},
   "source": [
    "**ADD MESSAGE TO A CHAT**\n",
    "\n",
    "**Purpose:** Add messages to an existing chat (send by an existing user who has been already added to an existing chat)\n",
    "  \n",
    "`/chat/<chatName>/<userName>/write/<message>`"
   ]
  },
  {
   "cell_type": "code",
   "execution_count": 13,
   "metadata": {},
   "outputs": [
    {
     "data": {
      "text/plain": [
       "'Message sent successfully'"
      ]
     },
     "execution_count": 13,
     "metadata": {},
     "output_type": "execute_result"
    }
   ],
   "source": [
    "res = requests.get(\"http://localhost:4000/chat/Ironhack/Marc/write/Aquí es donde la matan hoy\")\n",
    "res.text"
   ]
  },
  {
   "cell_type": "markdown",
   "metadata": {},
   "source": [
    "**GET ALL MESAGGES FROM A CHAT**\n",
    "\n",
    "**Purpose:** Get all messages from an existing chat\n",
    "\n",
    "`/chat/<chatName>/list`\n"
   ]
  },
  {
   "cell_type": "code",
   "execution_count": 17,
   "metadata": {},
   "outputs": [
    {
     "data": {
      "text/plain": [
       "{'messages': [{'message': 'Aquí es donde la matan hoy', 'user': 'Marc'}]}"
      ]
     },
     "execution_count": 17,
     "metadata": {},
     "output_type": "execute_result"
    }
   ],
   "source": [
    "res = requests.get(\"http://localhost:4000/chat/Ironhack/list\").json()\n",
    "res"
   ]
  },
  {
   "cell_type": "markdown",
   "metadata": {},
   "source": [
    "PS: I have developed two more endpoints (sentiment and recommender) which, respectively, analyzes the positive or negative sentiment of a chat and recommends the 3 more similar user to an another user, but I have checked them with a chat that contains more info.\n",
    "You should go to \"RickAndMorty_SentimentAnalysis_RecommendationAnalysis.ipynb\" jupyter file to check them."
   ]
  },
  {
   "cell_type": "code",
   "execution_count": null,
   "metadata": {},
   "outputs": [],
   "source": []
  }
 ],
 "metadata": {
  "kernelspec": {
   "display_name": "Python 3",
   "language": "python",
   "name": "python3"
  },
  "language_info": {
   "codemirror_mode": {
    "name": "ipython",
    "version": 3
   },
   "file_extension": ".py",
   "mimetype": "text/x-python",
   "name": "python",
   "nbconvert_exporter": "python",
   "pygments_lexer": "ipython3",
   "version": "3.7.7"
  }
 },
 "nbformat": 4,
 "nbformat_minor": 4
}

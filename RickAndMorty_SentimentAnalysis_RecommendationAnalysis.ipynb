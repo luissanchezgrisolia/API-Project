{
 "cells": [
  {
   "cell_type": "markdown",
   "metadata": {},
   "source": [
    "**Loading data**"
   ]
  },
  {
   "cell_type": "markdown",
   "metadata": {},
   "source": [
    "From a CSV that I have cleaned before, I am going to import a scene of Rick An Morty Tv show to analyze it"
   ]
  },
  {
   "cell_type": "code",
   "execution_count": 71,
   "metadata": {},
   "outputs": [],
   "source": [
    "import pandas as pd"
   ]
  },
  {
   "cell_type": "code",
   "execution_count": 72,
   "metadata": {},
   "outputs": [],
   "source": [
    "scene_filtered=pd.read_csv(\"OUTPUT/RickAndMorty_scene.csv\")                           "
   ]
  },
  {
   "cell_type": "markdown",
   "metadata": {},
   "source": [
    "# ANALYSING THE DATA"
   ]
  },
  {
   "cell_type": "code",
   "execution_count": 47,
   "metadata": {},
   "outputs": [],
   "source": [
    "import requests"
   ]
  },
  {
   "cell_type": "markdown",
   "metadata": {},
   "source": [
    "**Creating the users**"
   ]
  },
  {
   "cell_type": "code",
   "execution_count": 51,
   "metadata": {},
   "outputs": [
    {
     "data": {
      "text/plain": [
       "['Beth', 'Dr. Wong', 'Summer', 'Morty', 'Pickle Rick']"
      ]
     },
     "execution_count": 51,
     "metadata": {},
     "output_type": "execute_result"
    }
   ],
   "source": [
    "characteres= list(scene_filtered[\"name\"].unique())\n",
    "characteres"
   ]
  },
  {
   "cell_type": "code",
   "execution_count": 53,
   "metadata": {},
   "outputs": [
    {
     "name": "stdout",
     "output_type": "stream",
     "text": [
      "User Beth created with id number: 13\n",
      "User Dr. Wong created with id number: 14\n",
      "User Summer created with id number: 15\n",
      "User Morty created with id number: 16\n",
      "User Pickle Rick created with id number: 17\n"
     ]
    }
   ],
   "source": [
    "for char in characteres:\n",
    "    res = requests.get(f\"http://localhost:4000/user/create/{char}\")\n",
    "    print(res.text)"
   ]
  },
  {
   "cell_type": "markdown",
   "metadata": {},
   "source": [
    "**Creating the chat**"
   ]
  },
  {
   "cell_type": "code",
   "execution_count": 54,
   "metadata": {},
   "outputs": [
    {
     "data": {
      "text/plain": [
       "'Chat RickAndMorty created with id number: 2'"
      ]
     },
     "execution_count": 54,
     "metadata": {},
     "output_type": "execute_result"
    }
   ],
   "source": [
    "res = requests.get(\"http://localhost:4000/chat/create/RickAndMorty\")\n",
    "res.text"
   ]
  },
  {
   "cell_type": "markdown",
   "metadata": {},
   "source": [
    "**Adding characteres to the chat**    "
   ]
  },
  {
   "cell_type": "code",
   "execution_count": 56,
   "metadata": {},
   "outputs": [
    {
     "name": "stdout",
     "output_type": "stream",
     "text": [
      "User Beth added to chat: RickAndMorty\n",
      "User Dr. Wong added to chat: RickAndMorty\n",
      "User Summer added to chat: RickAndMorty\n",
      "User Morty added to chat: RickAndMorty\n",
      "User Pickle Rick added to chat: RickAndMorty\n"
     ]
    }
   ],
   "source": [
    "for char in characteres:\n",
    "    res = requests.get(f\"http://localhost:4000/chat/RickAndMorty/add/{char}\")\n",
    "    print(res.text)"
   ]
  },
  {
   "cell_type": "markdown",
   "metadata": {},
   "source": [
    "**Adding messages to the chat**    "
   ]
  },
  {
   "cell_type": "code",
   "execution_count": 62,
   "metadata": {},
   "outputs": [
    {
     "name": "stdout",
     "output_type": "stream",
     "text": [
      "Message sent successfully\n",
      "Message sent successfully\n",
      "Message sent successfully\n",
      "Message sent successfully\n",
      "Message sent successfully\n",
      "Message sent successfully\n",
      "Message sent successfully\n",
      "Message sent successfully\n",
      "Message sent successfully\n",
      "Message sent successfully\n",
      "Message sent successfully\n",
      "Message sent successfully\n",
      "Message sent successfully\n",
      "Message sent successfully\n",
      "Message sent successfully\n",
      "Message sent successfully\n",
      "Message sent successfully\n",
      "Message sent successfully\n",
      "Message sent successfully\n",
      "Message sent successfully\n",
      "Message sent successfully\n",
      "Message sent successfully\n",
      "Message sent successfully\n",
      "Message sent successfully\n",
      "Message sent successfully\n",
      "Message sent successfully\n"
     ]
    }
   ],
   "source": [
    "for char, text in zip(scene_filtered[\"name\"], scene_filtered[\"line\"]):\n",
    "    res = requests.get(f\"http://localhost:4000/chat/RickAndMorty/{char}/write/{text}\")\n",
    "    print(res.text)"
   ]
  },
  {
   "cell_type": "markdown",
   "metadata": {},
   "source": [
    "### SENTIMENT ANALYSIS"
   ]
  },
  {
   "cell_type": "markdown",
   "metadata": {},
   "source": [
    "**ANALYZE MESSAGES´ SENTIMENTS**\n",
    "\n",
    "**Purpose:** Analyze the positive or negative sentiment of a chat´s menssages \n",
    "\n",
    "    -positive sentiment: compound score >= 0.05\n",
    "    -neutral sentiment: (compound score > -0.05) and (compound score < 0.05)\n",
    "    -negative sentiment: compound score <= -0.05\n",
    "  \n",
    "`/chat/<chatName>/sentiment`"
   ]
  },
  {
   "cell_type": "code",
   "execution_count": 66,
   "metadata": {},
   "outputs": [
    {
     "data": {
      "text/plain": [
       "{'compound': -0.9692, 'neg': 0.135, 'neu': 0.759, 'pos': 0.107}"
      ]
     },
     "execution_count": 66,
     "metadata": {},
     "output_type": "execute_result"
    }
   ],
   "source": [
    "res = requests.get(f\"http://localhost:4000/chat/RickAndMorty/sentiment\").json()\n",
    "res"
   ]
  },
  {
   "cell_type": "markdown",
   "metadata": {},
   "source": [
    "### RECOMMENDER ANALYSIS"
   ]
  },
  {
   "cell_type": "markdown",
   "metadata": {},
   "source": [
    "**RECOMMEND USER TO ANOTHER ONE**\n",
    "\n",
    "**Purpose:** Recommend a friend to an existing user based on chat contents\n",
    "\n",
    "`/user/<userName>/recommend`\n"
   ]
  },
  {
   "cell_type": "code",
   "execution_count": 205,
   "metadata": {},
   "outputs": [
    {
     "data": {
      "text/plain": [
       "{'Dr. Wong': 0.5388302126598029}"
      ]
     },
     "execution_count": 205,
     "metadata": {},
     "output_type": "execute_result"
    }
   ],
   "source": [
    "res = requests.get(f\"http://localhost:4000/user/Pickle Rick/recommend\").json()\n",
    "res"
   ]
  },
  {
   "cell_type": "code",
   "execution_count": null,
   "metadata": {},
   "outputs": [],
   "source": []
  }
 ],
 "metadata": {
  "kernelspec": {
   "display_name": "Python 3",
   "language": "python",
   "name": "python3"
  },
  "language_info": {
   "codemirror_mode": {
    "name": "ipython",
    "version": 3
   },
   "file_extension": ".py",
   "mimetype": "text/x-python",
   "name": "python",
   "nbconvert_exporter": "python",
   "pygments_lexer": "ipython3",
   "version": "3.7.7"
  }
 },
 "nbformat": 4,
 "nbformat_minor": 4
}
